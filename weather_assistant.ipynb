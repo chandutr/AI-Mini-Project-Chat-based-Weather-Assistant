{
 "cells": [
  {
   "cell_type": "markdown",
   "id": "40901730-631f-4ad8-94eb-4972892bd020",
   "metadata": {},
   "source": [
    "Problem Statement: The purpose of this chatbot is to provide users with weather-related information such as current temperature, tomorrow's forecast, and humidity, for cities like Delhi, Mumbai, and Bangalore."
   ]
  },
  {
   "cell_type": "code",
   "execution_count": 1,
   "id": "630dcd5a-06ed-4658-bf0a-5df81f752ced",
   "metadata": {},
   "outputs": [
    {
     "name": "stderr",
     "output_type": "stream",
     "text": [
      "[nltk_data] Downloading package punkt_tab to\n",
      "[nltk_data]     C:\\Users\\DELL\\AppData\\Roaming\\nltk_data...\n",
      "[nltk_data]   Package punkt_tab is already up-to-date!\n",
      "[nltk_data] Downloading package wordnet to\n",
      "[nltk_data]     C:\\Users\\DELL\\AppData\\Roaming\\nltk_data...\n",
      "[nltk_data]   Package wordnet is already up-to-date!\n"
     ]
    },
    {
     "data": {
      "text/plain": [
       "True"
      ]
     },
     "execution_count": 1,
     "metadata": {},
     "output_type": "execute_result"
    }
   ],
   "source": [
    "import nltk\n",
    "import numpy as np\n",
    "import string\n",
    "import warnings\n",
    "from nltk.tokenize import word_tokenize\n",
    "from nltk.stem import WordNetLemmatizer\n",
    "warnings.filterwarnings(\"ignore\")\n",
    "nltk.download('punkt_tab')\n",
    "nltk.download('wordnet')"
   ]
  },
  {
   "cell_type": "code",
   "execution_count": 2,
   "id": "08f89823-3240-491c-a38f-4b5c43cb4aad",
   "metadata": {},
   "outputs": [],
   "source": [
    "# Weather-related chatbot data\n",
    "weather_data = {\n",
    "    \"hi\": \"How can I help you today?\",\n",
    "    \"current temperature\": \"The current temperature in {city} is {temp}°C.\",\n",
    "    \"tomorrow forecast\": \"The forecast for tomorrow in {city} is {forecast}.\",\n",
    "    \"humidity\": \"The humidity level in {city} is {level}%.\",\n",
    "    \"default\": \"I'm sorry, I didn't understand that. Please ask about the current weather, tomorrow's forecast, or say hi!\"\n",
    "}"
   ]
  },
  {
   "cell_type": "code",
   "execution_count": 3,
   "id": "d4e74bff-2603-40e1-89d6-e336609b8d1d",
   "metadata": {},
   "outputs": [],
   "source": [
    "# Preprocess text function\n",
    "lemmatizer = WordNetLemmatizer()\n",
    "def preprocess(text):\n",
    "    text = word_tokenize(text.lower())\n",
    "    tokens = [lemmatizer.lemmatize(word) for word in text if word not in string.punctuation]\n",
    "    return \" \".join(tokens)"
   ]
  },
  {
   "cell_type": "code",
   "execution_count": 4,
   "id": "9f2b5d62-c0e6-45df-a605-15270191e9f4",
   "metadata": {},
   "outputs": [],
   "source": [
    "#Mock weather data (since no real API integration is needed)\n",
    "mock_weather = {\n",
    "    \"Delhi\": {\"temp\": 35, \"forecast\": \"Sunny with a chance of rain\", \"level\":55},\n",
    "    \"Mumbai\": {\"temp\": 30, \"forecast\": \"Humid with partly cloudy skies\", \"level\":80},\n",
    "    \"Bangalore\": {\"temp\": 32, \"forecast\": \"Partly cloudy skies with a light breeze\", \"level\":65}\n",
    "}"
   ]
  },
  {
   "cell_type": "code",
   "execution_count": 5,
   "id": "8882d00c-daf4-4eec-9bf3-b213f0321778",
   "metadata": {},
   "outputs": [],
   "source": [
    "# Keyword-based intent mapping\n",
    "intent_keywords = {\n",
    "    \"hi\": [\"hi\",\"hello\",\"hey\"],\n",
    "    \"current temperature\": [\"temperature\", \"temp\", \"weather\", \"today\", \"current\"],\n",
    "    \"tomorrow forecast\": [\"forecast\", \"tomorrow\", \"next\", \"weather\"],\n",
    "    \"humidity\": [\"humidity\",\"humid\"]\n",
    "}"
   ]
  },
  {
   "cell_type": "code",
   "execution_count": 6,
   "id": "abfc4665-cbc3-4215-86a1-f09ca9e0dde3",
   "metadata": {},
   "outputs": [],
   "source": [
    "def detect_intent(user_input):\n",
    "    user_tokens = set(preprocess(user_input).split())\n",
    "    for intent, keywords in intent_keywords.items():\n",
    "        if any(keyword in user_tokens for keyword in keywords):\n",
    "            return intent\n",
    "    return \"default\""
   ]
  },
  {
   "cell_type": "code",
   "execution_count": 7,
   "id": "7b4a541b-b03d-4f17-9ec0-1d3d4ffae384",
   "metadata": {},
   "outputs": [],
   "source": [
    "def get_weather_response(intent, city):\n",
    "    if intent == \"current temperature\" and city in mock_weather:\n",
    "        return weather_data[intent].format(city=city, temp=mock_weather[city][\"temp\"])\n",
    "    elif intent == \"tomorrow forecast\" and city in mock_weather:\n",
    "        return weather_data[intent].format(city=city, forecast=mock_weather[city][\"forecast\"])\n",
    "    elif intent == \"humidity\":\n",
    "        return weather_data[intent].format(city=city, level=mock_weather[city][\"level\"])\n",
    "    elif intent == \"hi\":\n",
    "        return \"How can I help you today?\"\n",
    "    else:\n",
    "        return \"It seems like that might have been a typo. Would you like to try again or let me know how I can help you?\"\n",
    "    return weather_data[\"default\"]"
   ]
  },
  {
   "cell_type": "code",
   "execution_count": 8,
   "id": "844f3edf-c12e-4e1f-a57f-e875039d7b60",
   "metadata": {},
   "outputs": [],
   "source": [
    "def get_response(user_input):\n",
    "    intent = detect_intent(user_input)\n",
    "    # Simple city detection (assuming city is mentioned in input)\n",
    "    city = \"Delhi\" if \"delhi\" in user_input.lower() else \"Mumbai\" if \"mumbai\" in user_input.lower() else \"Bangalore\" if \"bangalore\" in user_input.lower() else \"Delhi\"\n",
    "    return get_weather_response(intent, city)"
   ]
  },
  {
   "cell_type": "code",
   "execution_count": 9,
   "id": "74df267f-d655-4478-b626-35f976dc5fd3",
   "metadata": {},
   "outputs": [
    {
     "name": "stdout",
     "output_type": "stream",
     "text": [
      "Weather Chatbot is ready! Type 'quit' to exit.\n"
     ]
    },
    {
     "name": "stdin",
     "output_type": "stream",
     "text": [
      "You:  What is the temperature in Delhi today?\n"
     ]
    },
    {
     "name": "stdout",
     "output_type": "stream",
     "text": [
      "Chatbot:  The current temperature in Delhi is 35°C.\n"
     ]
    },
    {
     "name": "stdin",
     "output_type": "stream",
     "text": [
      "You:  How's the weather in Mumbai right now?\n"
     ]
    },
    {
     "name": "stdout",
     "output_type": "stream",
     "text": [
      "Chatbot:  The current temperature in Mumbai is 30°C.\n"
     ]
    },
    {
     "name": "stdin",
     "output_type": "stream",
     "text": [
      "You:  Will it rain tomorrow in Delhi?\n"
     ]
    },
    {
     "name": "stdout",
     "output_type": "stream",
     "text": [
      "Chatbot:  The forecast for tomorrow in Delhi is Sunny with a chance of rain.\n"
     ]
    },
    {
     "name": "stdin",
     "output_type": "stream",
     "text": [
      "You:  What's the weather like in Mumbai tomorrow?\n"
     ]
    },
    {
     "name": "stdout",
     "output_type": "stream",
     "text": [
      "Chatbot:  The current temperature in Mumbai is 30°C.\n"
     ]
    },
    {
     "name": "stdin",
     "output_type": "stream",
     "text": [
      "You:  Hi, can you help me with the weather?\n"
     ]
    },
    {
     "name": "stdout",
     "output_type": "stream",
     "text": [
      "Chatbot:  How can I help you today?\n"
     ]
    },
    {
     "name": "stdin",
     "output_type": "stream",
     "text": [
      "You:  Tell me about Delhi's weather today.\n"
     ]
    },
    {
     "name": "stdout",
     "output_type": "stream",
     "text": [
      "Chatbot:  The current temperature in Delhi is 35°C.\n"
     ]
    },
    {
     "name": "stdin",
     "output_type": "stream",
     "text": [
      "You:  Is it going to be hot in Mumbai tomorrow?\n"
     ]
    },
    {
     "name": "stdout",
     "output_type": "stream",
     "text": [
      "Chatbot:  The forecast for tomorrow in Mumbai is Humid with partly cloudy skies.\n"
     ]
    },
    {
     "name": "stdin",
     "output_type": "stream",
     "text": [
      "You:  Hello there!\n"
     ]
    },
    {
     "name": "stdout",
     "output_type": "stream",
     "text": [
      "Chatbot:  How can I help you today?\n"
     ]
    },
    {
     "name": "stdin",
     "output_type": "stream",
     "text": [
      "You:  Will it be rainy in Mumbai tomorrow?\n"
     ]
    },
    {
     "name": "stdout",
     "output_type": "stream",
     "text": [
      "Chatbot:  The forecast for tomorrow in Mumbai is Humid with partly cloudy skies.\n"
     ]
    },
    {
     "name": "stdin",
     "output_type": "stream",
     "text": [
      "You:  Good morning! What’s the weather today?\n"
     ]
    },
    {
     "name": "stdout",
     "output_type": "stream",
     "text": [
      "Chatbot:  The current temperature in Delhi is 35°C.\n"
     ]
    },
    {
     "name": "stdin",
     "output_type": "stream",
     "text": [
      "You:  Can you check Mumbai’s weather?\n"
     ]
    },
    {
     "name": "stdout",
     "output_type": "stream",
     "text": [
      "Chatbot:  The current temperature in Mumbai is 30°C.\n"
     ]
    },
    {
     "name": "stdin",
     "output_type": "stream",
     "text": [
      "You:  I need help with humidity\n"
     ]
    },
    {
     "name": "stdout",
     "output_type": "stream",
     "text": [
      "Chatbot:  The humidity level in Delhi is 55%.\n"
     ]
    },
    {
     "name": "stdin",
     "output_type": "stream",
     "text": [
      "You:  Is it humid today in Mumbai?\n"
     ]
    },
    {
     "name": "stdout",
     "output_type": "stream",
     "text": [
      "Chatbot:  The current temperature in Mumbai is 30°C.\n"
     ]
    },
    {
     "name": "stdin",
     "output_type": "stream",
     "text": [
      "You:  What is the humidity level in Mumbai?\n"
     ]
    },
    {
     "name": "stdout",
     "output_type": "stream",
     "text": [
      "Chatbot:  The humidity level in Mumbai is 80%.\n"
     ]
    },
    {
     "name": "stdin",
     "output_type": "stream",
     "text": [
      "You:  Check the humidity in Bangalore?\n"
     ]
    },
    {
     "name": "stdout",
     "output_type": "stream",
     "text": [
      "Chatbot:  The humidity level in Bangalore is 65%.\n"
     ]
    },
    {
     "name": "stdin",
     "output_type": "stream",
     "text": [
      "You:  Can you check the humidity in Delhi?\n"
     ]
    },
    {
     "name": "stdout",
     "output_type": "stream",
     "text": [
      "Chatbot:  The humidity level in Delhi is 55%.\n"
     ]
    },
    {
     "name": "stdin",
     "output_type": "stream",
     "text": [
      "You:  quit\n"
     ]
    },
    {
     "name": "stdout",
     "output_type": "stream",
     "text": [
      "Chatbot: Goodbye!\n"
     ]
    }
   ],
   "source": [
    "def chat():\n",
    "    print(\"Weather Chatbot is ready! Type 'quit' to exit.\")\n",
    "    while True:\n",
    "        user_input = input(\"You: \")\n",
    "        if user_input.lower() == \"quit\":\n",
    "            print(\"Chatbot: Goodbye!\")\n",
    "            break\n",
    "\n",
    "        response = get_response(user_input)\n",
    "        print(\"Chatbot: \", response)\n",
    "\n",
    "if __name__ == \"__main__\":\n",
    "    chat()"
   ]
  },
  {
   "cell_type": "code",
   "execution_count": null,
   "id": "974db7f1-6d81-4b72-ba11-43412739001a",
   "metadata": {},
   "outputs": [],
   "source": []
  }
 ],
 "metadata": {
  "kernelspec": {
   "display_name": "Python [conda env:base] *",
   "language": "python",
   "name": "conda-base-py"
  },
  "language_info": {
   "codemirror_mode": {
    "name": "ipython",
    "version": 3
   },
   "file_extension": ".py",
   "mimetype": "text/x-python",
   "name": "python",
   "nbconvert_exporter": "python",
   "pygments_lexer": "ipython3",
   "version": "3.12.7"
  }
 },
 "nbformat": 4,
 "nbformat_minor": 5
}
